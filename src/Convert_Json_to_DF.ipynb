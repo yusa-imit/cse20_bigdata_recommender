{
 "cells": [
  {
   "cell_type": "code",
   "execution_count": 1,
   "metadata": {},
   "outputs": [],
   "source": [
    "import pandas as pd\n",
    "import numpy as np\n",
    "import json"
   ]
  },
  {
   "cell_type": "code",
   "execution_count": 2,
   "metadata": {},
   "outputs": [],
   "source": [
    "game_detail = \"../dataset/game_detail_v2.json\"\n",
    "user_friend = \"../dataset/user_friend_list.json\"\n",
    "user_idx = \"../dataset/user_idx.json\"\n",
    "user_owned_games = \"../dataset/user_owned_games.json\"\n",
    "user_recently_played_games = \"../dataset/user_recently_played_games.json\"\n",
    "user_summary = \"../dataset/user_summary.json\""
   ]
  },
  {
   "cell_type": "markdown",
   "metadata": {},
   "source": [
    "# 1. Convert json to dataframe"
   ]
  },
  {
   "cell_type": "code",
   "execution_count": 3,
   "metadata": {},
   "outputs": [],
   "source": [
    "game_detail_df = pd.read_json(game_detail, lines = True)\n",
    "user_frined_df = pd.read_json(user_friend, lines = True)\n",
    "user_idx_df = pd.read_json(user_idx, lines = True)\n",
    "user_owned_games_df = pd.read_json(user_owned_games, lines = True)\n",
    "user_recent_df = pd.read_json(user_recently_played_games, lines = True)\n",
    "user_summary_df  = pd.read_json(user_summary, lines = True)"
   ]
  },
  {
   "cell_type": "code",
   "execution_count": 4,
   "metadata": {},
   "outputs": [
    {
     "name": "stdout",
     "output_type": "stream",
     "text": [
      "user_idx columns         : ['user_idx' 'user_id']\n",
      "user_owned_games columns : ['steamid' 'game_count' 'games']\n",
      "user_recent_df columns   : ['steamid' 'total_count' 'games']\n",
      "user_summary columns     : ['steamid' 'primaryclanid' 'realname' 'personaname' 'personastate'\n",
      " 'personastateflags' 'communityvisibilitystate' 'avatarhash'\n",
      " 'profilestate' 'profileurl' 'loccityid' 'timecreated' 'avatar'\n",
      " 'locstatecode' 'commentpermission' 'avatarfull' 'avatarmedium'\n",
      " 'loccountrycode' 'gameextrainfo' 'gameid' 'gameserverip'\n",
      " 'gameserversteamid' 'lobbysteamid' 'lastlogoff']\n",
      "game_detail_df columns   : ['steam_appid' 'achievements' 'price_overview' 'demos'\n",
      " 'detailed_description' 'screenshots' 'genres' 'required_age'\n",
      " 'about_the_game' 'short_description' 'developers' 'type'\n",
      " 'supported_languages' 'website' 'publishers' 'pc_requirements'\n",
      " 'recommendations' 'is_free' 'legal_notice' 'background'\n",
      " 'controller_support' 'packages' 'categories' 'support_info'\n",
      " 'content_descriptors' 'name' 'platforms' 'package_groups' 'release_date'\n",
      " 'movies' 'linux_requirements' 'mac_requirements' 'header_image'\n",
      " 'metacritic' 'dlc' 'reviews' 'ext_user_account_notice' 'drm_notice']\n"
     ]
    }
   ],
   "source": [
    "print(\"user_idx columns         :\", user_idx_df.columns.values)\n",
    "print(\"user_owned_games columns :\", user_owned_games_df.columns.values)\n",
    "print(\"user_recent_df columns   :\", user_recent_df.columns.values)\n",
    "print(\"user_summary columns     :\", user_summary_df.columns.values)\n",
    "print(\"game_detail_df columns   :\", game_detail_df.columns.values)"
   ]
  },
  {
   "cell_type": "markdown",
   "metadata": {},
   "source": [
    "# 2. Preprocessing"
   ]
  },
  {
   "cell_type": "markdown",
   "metadata": {},
   "source": [
    "## (1) convert user id to index"
   ]
  },
  {
   "cell_type": "code",
   "execution_count": 76,
   "metadata": {},
   "outputs": [],
   "source": [
    "user_game_df = user_idx_df"
   ]
  },
  {
   "cell_type": "code",
   "execution_count": 77,
   "metadata": {},
   "outputs": [
    {
     "data": {
      "text/html": [
       "<div>\n",
       "<style scoped>\n",
       "    .dataframe tbody tr th:only-of-type {\n",
       "        vertical-align: middle;\n",
       "    }\n",
       "\n",
       "    .dataframe tbody tr th {\n",
       "        vertical-align: top;\n",
       "    }\n",
       "\n",
       "    .dataframe thead th {\n",
       "        text-align: right;\n",
       "    }\n",
       "</style>\n",
       "<table border=\"1\" class=\"dataframe\">\n",
       "  <thead>\n",
       "    <tr style=\"text-align: right;\">\n",
       "      <th></th>\n",
       "      <th>steamid</th>\n",
       "      <th>game_count</th>\n",
       "      <th>games</th>\n",
       "    </tr>\n",
       "  </thead>\n",
       "  <tbody>\n",
       "    <tr>\n",
       "      <th>0</th>\n",
       "      <td>76561197960434624</td>\n",
       "      <td>1047</td>\n",
       "      <td>[{'playtime_linux_forever': 0, 'playtime_forev...</td>\n",
       "    </tr>\n",
       "    <tr>\n",
       "      <th>1</th>\n",
       "      <td>76561198015158496</td>\n",
       "      <td>[0]</td>\n",
       "      <td>[]</td>\n",
       "    </tr>\n",
       "    <tr>\n",
       "      <th>2</th>\n",
       "      <td>76561197972495328</td>\n",
       "      <td>[0]</td>\n",
       "      <td>[]</td>\n",
       "    </tr>\n",
       "    <tr>\n",
       "      <th>3</th>\n",
       "      <td>76561198028573552</td>\n",
       "      <td>[0]</td>\n",
       "      <td>[]</td>\n",
       "    </tr>\n",
       "    <tr>\n",
       "      <th>4</th>\n",
       "      <td>76561197970323424</td>\n",
       "      <td>[0]</td>\n",
       "      <td>[]</td>\n",
       "    </tr>\n",
       "    <tr>\n",
       "      <th>...</th>\n",
       "      <td>...</td>\n",
       "      <td>...</td>\n",
       "      <td>...</td>\n",
       "    </tr>\n",
       "    <tr>\n",
       "      <th>13037</th>\n",
       "      <td>76561198950450384</td>\n",
       "      <td>[0]</td>\n",
       "      <td>[]</td>\n",
       "    </tr>\n",
       "    <tr>\n",
       "      <th>13038</th>\n",
       "      <td>76561198974830112</td>\n",
       "      <td>[0]</td>\n",
       "      <td>[]</td>\n",
       "    </tr>\n",
       "    <tr>\n",
       "      <th>13039</th>\n",
       "      <td>76561198985708688</td>\n",
       "      <td>[0]</td>\n",
       "      <td>[]</td>\n",
       "    </tr>\n",
       "    <tr>\n",
       "      <th>13040</th>\n",
       "      <td>76561198993673408</td>\n",
       "      <td>[0]</td>\n",
       "      <td>[]</td>\n",
       "    </tr>\n",
       "    <tr>\n",
       "      <th>13041</th>\n",
       "      <td>76561199069509536</td>\n",
       "      <td>[0]</td>\n",
       "      <td>[]</td>\n",
       "    </tr>\n",
       "  </tbody>\n",
       "</table>\n",
       "<p>13042 rows × 3 columns</p>\n",
       "</div>"
      ],
      "text/plain": [
       "                 steamid game_count  \\\n",
       "0      76561197960434624       1047   \n",
       "1      76561198015158496        [0]   \n",
       "2      76561197972495328        [0]   \n",
       "3      76561198028573552        [0]   \n",
       "4      76561197970323424        [0]   \n",
       "...                  ...        ...   \n",
       "13037  76561198950450384        [0]   \n",
       "13038  76561198974830112        [0]   \n",
       "13039  76561198985708688        [0]   \n",
       "13040  76561198993673408        [0]   \n",
       "13041  76561199069509536        [0]   \n",
       "\n",
       "                                                   games  \n",
       "0      [{'playtime_linux_forever': 0, 'playtime_forev...  \n",
       "1                                                     []  \n",
       "2                                                     []  \n",
       "3                                                     []  \n",
       "4                                                     []  \n",
       "...                                                  ...  \n",
       "13037                                                 []  \n",
       "13038                                                 []  \n",
       "13039                                                 []  \n",
       "13040                                                 []  \n",
       "13041                                                 []  \n",
       "\n",
       "[13042 rows x 3 columns]"
      ]
     },
     "execution_count": 77,
     "metadata": {},
     "output_type": "execute_result"
    }
   ],
   "source": [
    "user_owned_games_df.head(100)"
   ]
  },
  {
   "cell_type": "markdown",
   "metadata": {},
   "source": [
    "## (2) make data frame of user and playtime of each game"
   ]
  },
  {
   "cell_type": "code",
   "execution_count": null,
   "metadata": {
    "scrolled": false
   },
   "outputs": [
    {
     "name": "stdout",
     "output_type": "stream",
     "text": [
      "time elapsed :  0.005989789962768555\n",
      "time elapsed :  292.9777331352234\n",
      "time elapsed :  967.260692358017\n"
     ]
    }
   ],
   "source": [
    "import time\n",
    "start = time.time()\n",
    "for idx, line in enumerate(open(user_owned_games, 'r')):\n",
    "    if idx % 100 == 0:\n",
    "        print(\"time elapsed : \", time.time() - start)\n",
    "    temp = json.loads(line)\n",
    "    temp_data = pd.json_normalize(temp[\"games\"], max_level = 1)\n",
    "    temp_idx = user_idx_df[user_idx_df.user_id==user_owned_games_df.steamid[idx]].index.values\n",
    "#     print(user_owned_games_df.steamid[idx])\n",
    "#     if (temp_data[\"\"])\n",
    "#     print(user_owned_games_df.steamid[idx])\n",
    "    if(temp_idx.size == 0 or temp_data.size == 0):\n",
    "        continue\n",
    "    if(user_owned_games_df.game_count[idx] > 1000):\n",
    "        continue ;\n",
    "    for app_id, play_forever in zip(temp_data[\"appid\"], temp_data[\"playtime_forever\"]):\n",
    "        if play_forever==0:\n",
    "            continue\n",
    "        if not app_id in user_game_df.columns:\n",
    "            user_game_df[app_id] = 0\n",
    "        user_game_df.loc[temp_idx, app_id] = play_forever\n",
    "#    user_game_df.\n",
    "#     user_game_df.insert(temp_idx[0],\n",
    "#                     temp_data.appid,\n",
    "#                     temp_data.playtime_forever)"
   ]
  },
  {
   "cell_type": "code",
   "execution_count": null,
   "metadata": {},
   "outputs": [],
   "source": [
    "user_game_df.to_csv(\"user_game.csv\", mode='w')"
   ]
  },
  {
   "cell_type": "markdown",
   "metadata": {},
   "source": [
    "## (3) Use collaborate filletering to make recommender  system"
   ]
  },
  {
   "cell_type": "code",
   "execution_count": null,
   "metadata": {},
   "outputs": [],
   "source": []
  }
 ],
 "metadata": {
  "kernelspec": {
   "display_name": "Python 3",
   "language": "python",
   "name": "python3"
  },
  "language_info": {
   "codemirror_mode": {
    "name": "ipython",
    "version": 3
   },
   "file_extension": ".py",
   "mimetype": "text/x-python",
   "name": "python",
   "nbconvert_exporter": "python",
   "pygments_lexer": "ipython3",
   "version": "3.8.3"
  }
 },
 "nbformat": 4,
 "nbformat_minor": 4
}
