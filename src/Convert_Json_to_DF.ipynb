{
 "cells": [
  {
   "cell_type": "code",
   "execution_count": 2,
   "metadata": {},
   "outputs": [],
   "source": [
    "import pandas as pd\n",
    "import numpy as np\n",
    "import json"
   ]
  },
  {
   "cell_type": "code",
   "execution_count": 39,
   "metadata": {},
   "outputs": [],
   "source": [
    "game_detail = \"../dataset/game_detail_v2.json\"\n",
    "user_friend = \"../dataset/user_friend_list.json\"\n",
    "user_idx = \"../dataset/user_idx.json\"\n",
    "user_owned_games = \"../dataset/user_owned_games.json\"\n",
    "user_recently_played_games = \"../dataset/user_recently_played_games.json\"\n",
    "user_summary = \"../dataset/user_summary.json\""
   ]
  },
  {
   "cell_type": "markdown",
   "metadata": {},
   "source": [
    "# 1. Convert json to dataframe"
   ]
  },
  {
   "cell_type": "code",
   "execution_count": 40,
   "metadata": {},
   "outputs": [],
   "source": [
    "game_detail_df = pd.read_json(game_detail, lines = True)\n",
    "user_frined_df = pd.read_json(user_friend, lines = True)\n",
    "user_idx_df = pd.read_json(user_idx, lines = True)\n",
    "user_owned_games_df = pd.read_json(user_owned_games, lines = True)\n",
    "user_recent_df = pd.read_json(user_recently_played_games, lines = True)\n",
    "user_summary_df  = pd.read_json(user_summary, lines = True)"
   ]
  },
  {
   "cell_type": "code",
   "execution_count": 221,
   "metadata": {},
   "outputs": [
    {
     "name": "stdout",
     "output_type": "stream",
     "text": [
      "user_idx columns         : ['user_idx' 'user_id']\n",
      "user_owned_games columns : ['steamid' 'game_count' 'games']\n",
      "user_recent_df columns   : ['steamid' 'total_count' 'games']\n",
      "user_summary columns     : ['steamid' 'primaryclanid' 'realname' 'personaname' 'personastate'\n",
      " 'personastateflags' 'communityvisibilitystate' 'avatarhash'\n",
      " 'profilestate' 'profileurl' 'loccityid' 'timecreated' 'avatar'\n",
      " 'locstatecode' 'commentpermission' 'avatarfull' 'avatarmedium'\n",
      " 'loccountrycode' 'gameextrainfo' 'gameid' 'gameserverip'\n",
      " 'gameserversteamid' 'lobbysteamid' 'lastlogoff']\n",
      "game_detail_df columns   : ['steam_appid' 'achievements' 'price_overview' 'demos'\n",
      " 'detailed_description' 'screenshots' 'genres' 'required_age'\n",
      " 'about_the_game' 'short_description' 'developers' 'type'\n",
      " 'supported_languages' 'website' 'publishers' 'pc_requirements'\n",
      " 'recommendations' 'is_free' 'legal_notice' 'background'\n",
      " 'controller_support' 'packages' 'categories' 'support_info'\n",
      " 'content_descriptors' 'name' 'platforms' 'package_groups' 'release_date'\n",
      " 'movies' 'linux_requirements' 'mac_requirements' 'header_image'\n",
      " 'metacritic' 'dlc' 'reviews' 'ext_user_account_notice' 'drm_notice']\n"
     ]
    }
   ],
   "source": [
    "print(\"user_idx columns         :\", user_idx_df.columns.values)\n",
    "print(\"user_owned_games columns :\", user_owned_games_df.columns.values)\n",
    "print(\"user_recent_df columns   :\", user_recent_df.columns.values)\n",
    "print(\"user_summary columns     :\", user_summary_df.columns.values)\n",
    "print(\"game_detail_df columns   :\", game_detail_df.columns.values)"
   ]
  },
  {
   "cell_type": "markdown",
   "metadata": {},
   "source": [
    "# 2. Preprocessing"
   ]
  },
  {
   "cell_type": "markdown",
   "metadata": {},
   "source": [
    "## (1) convert user id to index"
   ]
  },
  {
   "cell_type": "code",
   "execution_count": 235,
   "metadata": {},
   "outputs": [],
   "source": [
    "user_game_df = user_idx_df"
   ]
  },
  {
   "cell_type": "markdown",
   "metadata": {},
   "source": [
    "## (2) make data frame of user and playtime of each game"
   ]
  },
  {
   "cell_type": "code",
   "execution_count": null,
   "metadata": {
    "scrolled": false
   },
   "outputs": [],
   "source": [
    "for idx, line in enumerate(open(user_owned_games, 'r')):\n",
    "    temp = json.loads(line)\n",
    "    temp_data = pd.json_normalize(temp[\"games\"], max_level = 1)\n",
    "    temp_idx = user_idx_df[user_idx_df.user_id==user_owned_games_df.steamid[idx]].index.values\n",
    "#     print(temp[\"steamid\"])\n",
    "#     print(temp_data)\n",
    "#     print(user_owned_games_df.steamid[idx])\n",
    "#     print(temp_data.appid)\n",
    "#     print(temp_data.playtime_forever)\n",
    "    if(temp_idx.size == 0 or temp_data.size == 0):\n",
    "        continue\n",
    "    for app_id, play_forever in zip(temp_data[\"appid\"], temp_data[\"playtime_forever\"]):\n",
    "        if not app_id in user_game_df.columns:\n",
    "            user_game_df[app_id] = 0\n",
    "        user_game_df.loc[temp_idx][app_id] = play_forever\n",
    "#    user_game_df.\n",
    "#     user_game_df.insert(temp_idx[0],\n",
    "#                     temp_data.appid,\n",
    "#                     temp_data.playtime_forever)"
   ]
  },
  {
   "cell_type": "code",
   "execution_count": null,
   "metadata": {},
   "outputs": [],
   "source": [
    "user_game_df"
   ]
  },
  {
   "cell_type": "markdown",
   "metadata": {},
   "source": [
    "## (3) Use collaborate filletering to make recommender  system"
   ]
  },
  {
   "cell_type": "code",
   "execution_count": null,
   "metadata": {},
   "outputs": [],
   "source": []
  }
 ],
 "metadata": {
  "kernelspec": {
   "display_name": "Python 3",
   "language": "python",
   "name": "python3"
  },
  "language_info": {
   "codemirror_mode": {
    "name": "ipython",
    "version": 3
   },
   "file_extension": ".py",
   "mimetype": "text/x-python",
   "name": "python",
   "nbconvert_exporter": "python",
   "pygments_lexer": "ipython3",
   "version": "3.8.3"
  }
 },
 "nbformat": 4,
 "nbformat_minor": 4
}
